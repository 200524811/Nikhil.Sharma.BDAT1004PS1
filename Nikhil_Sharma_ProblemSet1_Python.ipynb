{
 "cells": [
  {
   "cell_type": "markdown",
   "id": "5d2a34ee",
   "metadata": {},
   "source": [
    "# BDAT 1004 – Data Programming Problem Set 1 \n",
    "## Question 5 to 10 of Python"
   ]
  },
  {
   "cell_type": "markdown",
   "id": "56bfc7ff",
   "metadata": {},
   "source": [
    "### Question 6th:\n",
    "#### Write a function pig() that takes a word (i.e., a string) as input and returns its pig\u0002Latin form. Your function should still work if the input word contains upper case characters. Your output should always be lower case however."
   ]
  },
  {
   "cell_type": "code",
   "execution_count": 1,
   "id": "5503f1b2",
   "metadata": {},
   "outputs": [
    {
     "name": "stdout",
     "output_type": "stream",
     "text": [
      "appyhay\n",
      "Enterway\n"
     ]
    }
   ],
   "source": [
    "\n",
    "def pig(my_word):\n",
    "    vowel = ('A','E','I','O','U','a','e','i','o','u')\n",
    "    first_letter = my_word[0]\n",
    "\n",
    "    if first_letter in vowel: \n",
    "        word=(my_word+\"way\")\n",
    "        word.lower()\n",
    "      \n",
    "        return word\n",
    "    else:\n",
    "        word = (my_word[1:]+my_word[0]+\"ay\")\n",
    "        word.lower()\n",
    "        \n",
    "        return word\n",
    "print(pig('happy'))\n",
    "print(pig('Enter'))"
   ]
  },
  {
   "cell_type": "markdown",
   "id": "3d909ea8",
   "metadata": {},
   "source": [
    "### Question 7th: \n",
    "##### File bloodtype1.txt records blood-types of patients (A, B, AB, O or OO) at a clinic. \n",
    "Write a function bldcount() that reads the file with name name and reports (i.e., \n",
    "prints) how many patients there are in each bloodtype.\n",
    "bldcount('bloodtype.txt')\n",
    "There are 10 patients of blood type A.\n",
    "There is one patient of blood type B.\n",
    "There are 10 patients of blood type AB.\n",
    "There are 12 patients of blood type O.\n",
    "There are no patients of blood type OO.# "
   ]
  },
  {
   "cell_type": "code",
   "execution_count": 9,
   "id": "9798df6e",
   "metadata": {},
   "outputs": [
    {
     "name": "stdout",
     "output_type": "stream",
     "text": [
      "There are 15 patients of blood type A.\n",
      "There is one patient of blood type B.\n",
      "There are 13 patients of blood type AB.\n",
      "There are 15 patients of blood type O.\n",
      "There are no patients of blood type OO.\n"
     ]
    }
   ],
   "source": [
    "def bldcount(filename):\n",
    "    infile=open(r'bloodtype1.txt')\n",
    "    content = infile.read() \n",
    "    infile.close() \n",
    "    \n",
    "    #step 1 to 4 has reference from week 3 notebook \n",
    "    \n",
    "    content = content.split()\n",
    "    \n",
    "    #content.split()is used to break into smaller portions, without this  'A' gets counted in AB as well\n",
    "    \n",
    "    bloodtype = ['A','B','AB','O','OO']\n",
    "   \n",
    "    for  i in bloodtype: \n",
    "        if content.count(i)==0: \n",
    "            print('There are no patients of blood type',i+'.') \n",
    "        elif content.count(i)==1:\n",
    "                print('There is one patient of blood type',i+'.')\n",
    "        else: \n",
    "            print('There are',content.count(i),'patients of blood type', i+'.') \n",
    "    \n",
    "\n",
    "bldcount('bloodtype1.txt');"
   ]
  },
  {
   "cell_type": "markdown",
   "id": "1d71eeb2",
   "metadata": {},
   "source": [
    "### Question 8th: Write a function curconv() that takes as input:\n",
    "1. a currency represented using a string (e.g., 'JPY' for the Japanese Yen or \n",
    "'EUR' for the Euro)\n",
    "2. an amount\n",
    "and then converts and returns the amount in US dollars"
   ]
  },
  {
   "cell_type": "code",
   "execution_count": 7,
   "id": "98ac761a",
   "metadata": {},
   "outputs": [
    {
     "name": "stdout",
     "output_type": "stream",
     "text": [
      "122.96544\n",
      "1.241401\n"
     ]
    }
   ],
   "source": [
    "def curconv(curr,amt):\n",
    "    infile=open(r'currencies.txt')\n",
    "    for content in infile:\n",
    "        content = content.split()\n",
    "        if curr == content[0]:\n",
    "            amt = amt*float(content[1])\n",
    "            return amt\n",
    "print(curconv('EUR',100))   \n",
    "print(curconv('JPY', 100))"
   ]
  },
  {
   "cell_type": "markdown",
   "id": "0d17dd25",
   "metadata": {},
   "source": [
    "### Question 9th: Each of the following will cause an exception (an error). Identify what type of exception each will cause.?\n"
   ]
  },
  {
   "cell_type": "markdown",
   "id": "a17b609e",
   "metadata": {},
   "source": [
    "### Answer: \n",
    "1.Trying to add incompatible variables, as in \n",
    "adding 6 + ‘a’ ---> Type error\n",
    "\n",
    "2.Referring to the 12th item of a list that has only 10 \n",
    "items ---> Index error\n",
    "\n",
    "3.Using a value that is out of range for a function’s \n",
    "input, such as calling math.sqrt(-1.0) ---> Value error\n",
    "\n",
    "4.Using an undeclared variable, such as print(x)\n",
    "when x has not been defined ---> Name Error\n",
    "\n",
    "5.Trying to open a file that does not exist, such as \n",
    "mistyping the file name or looking in the wrong \n",
    "directory. ---> FileNotFoundError"
   ]
  },
  {
   "cell_type": "markdown",
   "id": "4ae1d9b7",
   "metadata": {},
   "source": [
    "### Question 10th: \n",
    "Assume that string letters is already defined as abcdefghijklmnopqrstuvwxyz'. Write a function called frequencies()\n",
    "that takes a string as its only parameter, and returns a list of integers, showing the \n",
    "number of times each character appears in the text. Your function may ignore any \n",
    "characters that are not in letters. \n",
    ">>> frequencies('The quick red fox got bored and went home.')\n",
    "[1, 1, 1, 3, 5, 1, 1, 2, 1, 0, 1, 0, 1, 2, 4, 0, 1, 2, 0, 2, \n",
    "1, 0, 1, 1, 0, 0]\n",
    ">>> frequencies('apple')"
   ]
  },
  {
   "cell_type": "code",
   "execution_count": 5,
   "id": "48046332",
   "metadata": {},
   "outputs": [
    {
     "name": "stdout",
     "output_type": "stream",
     "text": [
      "1\n",
      "1\n",
      "1\n",
      "3\n",
      "5\n",
      "1\n",
      "1\n",
      "2\n",
      "1\n",
      "0\n",
      "1\n",
      "0\n",
      "1\n",
      "2\n",
      "4\n",
      "0\n",
      "1\n",
      "2\n",
      "0\n",
      "2\n",
      "1\n",
      "0\n",
      "1\n",
      "1\n",
      "0\n",
      "0\n",
      "0\n",
      "0\n",
      "0\n",
      "0\n",
      "1\n",
      "0\n",
      "0\n",
      "0\n",
      "0\n",
      "0\n",
      "0\n",
      "1\n",
      "0\n",
      "0\n",
      "0\n",
      "2\n",
      "0\n",
      "0\n",
      "0\n",
      "0\n",
      "0\n",
      "0\n",
      "0\n",
      "0\n",
      "0\n",
      "0\n"
     ]
    }
   ],
   "source": [
    "def frequencies(string):\n",
    "\n",
    "    letters=['a','b','c','d','e','f','g','h','i','j','k','l','m','n','o','p','q','r','s','t','u','v','w','x','y','z']\n",
    "\n",
    "    for i in range(0,26):\n",
    "        print(string.count(letters[i]))\n",
    "        \n",
    "frequencies('The quick red fox got bored and went home')\n",
    "frequencies('Apple')"
   ]
  }
 ],
 "metadata": {
  "kernelspec": {
   "display_name": "Python 3 (ipykernel)",
   "language": "python",
   "name": "python3"
  },
  "language_info": {
   "codemirror_mode": {
    "name": "ipython",
    "version": 3
   },
   "file_extension": ".py",
   "mimetype": "text/x-python",
   "name": "python",
   "nbconvert_exporter": "python",
   "pygments_lexer": "ipython3",
   "version": "3.9.12"
  }
 },
 "nbformat": 4,
 "nbformat_minor": 5
}

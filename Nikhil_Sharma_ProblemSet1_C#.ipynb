{
 "cells": [
  {
   "cell_type": "markdown",
   "id": "5497fadd",
   "metadata": {},
   "source": [
    "# BDAT 1004 – Data Programming Problem Set 1 \n",
    "## Question 1 to 5 of C#"
   ]
  },
  {
   "cell_type": "markdown",
   "id": "34afa350",
   "metadata": {},
   "source": [
    "### Question 1st: What data type is each of the following?"
   ]
  },
  {
   "cell_type": "markdown",
   "id": "ee70c888",
   "metadata": {},
   "source": [
    "\n",
    "5 ---> Int \n",
    "5.0 ---> Double \n",
    "5 > 1 ---> Boolean \n",
    "'5' ---> Character \n",
    "5 * 2 ---> Int \n",
    "'5' * 2 --> Int\n",
    "'5' + '2'--> String \n",
    "5 / 2 ---> Int \n",
    "5 % 2 ---> Float \n",
    "{5, 2, 1} ---> Array \n",
    "5 == 3 ---> Boolean \n",
    "Pi (the number) ---> Double"
   ]
  },
  {
   "cell_type": "markdown",
   "id": "410adaba",
   "metadata": {},
   "source": [
    "## Question 2nd"
   ]
  },
  {
   "cell_type": "markdown",
   "id": "e61f66da",
   "metadata": {},
   "source": [
    "### Question2nd: a. How many letters are there in 'Supercalifragilisticexpialidocious'?"
   ]
  },
  {
   "cell_type": "code",
   "execution_count": 64,
   "id": "bf6a7128",
   "metadata": {},
   "outputs": [
    {
     "name": "stdout",
     "output_type": "stream",
     "text": [
      "Character Count:34"
     ]
    }
   ],
   "source": [
    "\n",
    "        string s;\n",
    "        int Count = 0;\n",
    "        s = \"Supercalifragilisticexpialidocious\";\n",
    "        Console.Write(\"Character Count:\");\n",
    "        foreach (char ch in s)\n",
    "        {\n",
    "            Count++;\n",
    "        }\n",
    "        Console.Write(Count);\n"
   ]
  },
  {
   "cell_type": "markdown",
   "id": "dec4ced8",
   "metadata": {},
   "source": [
    "###  Question2nd: b. Does 'Supercalifragilisticexpialidocious' contain 'ice' as a substring?"
   ]
  },
  {
   "cell_type": "code",
   "execution_count": 67,
   "id": "c56dc78e",
   "metadata": {},
   "outputs": [
    {
     "name": "stdout",
     "output_type": "stream",
     "text": [
      "True\r\n"
     ]
    }
   ],
   "source": [
    "\n",
    "String str = \"Supercalifragilisticexpialidocious\";\n",
    "String substr1 = \"ice\";\n",
    "Console.WriteLine(str.Contains(substr1));"
   ]
  },
  {
   "cell_type": "markdown",
   "id": "111ed46f",
   "metadata": {},
   "source": [
    "### Question2nd. c.  Which of the following words is the longest: Supercalifragilisticexpialidocious,Honorificabilitudinitatibus, or Bababadalgharaghtakamminarronnkonn? \n",
    "           "
   ]
  },
  {
   "cell_type": "code",
   "execution_count": 74,
   "id": "290af08b",
   "metadata": {},
   "outputs": [
    {
     "name": "stdout",
     "output_type": "stream",
     "text": [
      "Your Character Count1:34\n",
      "Your Character Count2:27\n",
      "Your Character Count3:34\n",
      "To find largets word among three\n",
      "largest words are  Supercalifragilisticexpialidocious and Honorificabilitudinitatibus"
     ]
    }
   ],
   "source": [
    "            string s1;\n",
    "            string s2;\n",
    "            string s3;\n",
    "            int Count1 = 0;\n",
    "            int Count2 = 0;\n",
    "            int Count3 = 0;\n",
    "            s1 = \"Supercalifragilisticexpialidocious\";\n",
    "            s2 = \"Honorificabilitudinitatibus\";\n",
    "            s3 = \"Bababadalgharaghtakamminarronnkonn\";\n",
    "\n",
    "            Console.Write(\"Your Character Count1:\");\n",
    "            foreach (var ch in s1)\n",
    "            {\n",
    "\n",
    "                Count1++;\n",
    "\n",
    "            }\n",
    "            Console.Write(Count1);\n",
    "            Console.Write(\"\\nYour Character Count2:\");\n",
    "            foreach (var ch in s2)\n",
    "            {\n",
    "\n",
    "                Count2++;\n",
    "\n",
    "            }\n",
    "            Console.Write(Count2);\n",
    "            Console.Write(\"\\nYour Character Count3:\");\n",
    "            foreach (var ch in s3)\n",
    "            {\n",
    "\n",
    "                Count3++;\n",
    "\n",
    "            }\n",
    "            Console.Write(Count3);\n",
    "\n",
    "            Console.Write(\"\\nTo find largets word among three\");\n",
    "            if ((Count1 > Count2) && (Count1 > Count3))\n",
    "            {\n",
    "                Console.Write(\"\\nlargest is Supercalifragilisticexpialidocious \");\n",
    "            }\n",
    "\n",
    "            else if\n",
    "                ((Count2 > Count1) && (Count2 > Count3))\n",
    "            {\n",
    "\n",
    "                Console.Write(\"\\nlargest is Honorificabilitudinitatibus \");\n",
    "\n",
    "            }\n",
    "            else if ((Count3 > Count1) && (Count3 > Count2))\n",
    "            { Console.Write(\"\\nlargest is Bababadalgharaghtakamminarronnkonn \"); }\n",
    "\n",
    "            else if\n",
    "               ((Count1 == Count2))\n",
    "            { Console.Write(\"\\nlargest words are Supercalifragilisticexpialidocious and Honorificabilitudinitatibus\"); }\n",
    "            else if\n",
    "               ((Count2 == Count3))\n",
    "            { Console.Write(\"\\nlargest words are  Bababadalgharaghtakamminarronnkonn and Honorificabilitudinitatibus\"); }\n",
    "            else if\n",
    "              ((Count3 == Count1))\n",
    "            { Console.Write(\"\\nlargest words are  Supercalifragilisticexpialidocious and Honorificabilitudinitatibus\"); }"
   ]
  },
  {
   "cell_type": "markdown",
   "id": "e1c82c91",
   "metadata": {},
   "source": [
    "### Question 2nd. d. Which composer comes first in the dictionary: 'Berlioz', 'Borodin', 'Brian', 'Bartok', 'Bellini', 'Buxtehude', 'Bernstein'. Which one comes last?\n"
   ]
  },
  {
   "cell_type": "code",
   "execution_count": 75,
   "id": "4693064b",
   "metadata": {},
   "outputs": [
    {
     "name": "stdout",
     "output_type": "stream",
     "text": [
      "Bartok\n",
      "Bellini\n",
      "Berlioz\n",
      "Bernstein\n",
      "Borodin\n",
      "Brian\n",
      "Buxtehude\n",
      "Composer Bartok comes first in dictionary and Buxtehude comes last\n"
     ]
    }
   ],
   "source": [
    "string[] Composer = new string[]\n",
    "            {\n",
    "            \"Berlioz\", \"Borodin\", \"Brian\",\"Bartok\", \"Bellini\", \"Buxtehude\", \"Bernstein\"\n",
    "            };\n",
    "            Array.Sort(Composer);\n",
    "\n",
    "            foreach (string i in Composer)\n",
    "            {\n",
    "                Console.WriteLine(i);\n",
    "            }\n",
    "\n",
    "            Console.WriteLine(\"Composer \" +Composer[0]+ \" comes first in dictionary and \" +Composer[6]+ \" comes last\");"
   ]
  },
  {
   "cell_type": "markdown",
   "id": "cfad3214",
   "metadata": {},
   "source": [
    "### Question 3rd: Implement function triangleArea(a,b,c) that takes as input the lengths of the 3 sides of a triangle and returns the area of the triangle. By Heron's formula, the area of a triangle with side lengths a, b, and c is s(s - a)(s -b)(s -c) , where s = (a+b+c)/2.\n"
   ]
  },
  {
   "cell_type": "code",
   "execution_count": 76,
   "id": "e3cb1be5",
   "metadata": {},
   "outputs": [
    {
     "name": "stdout",
     "output_type": "stream",
     "text": [
      "Three given sides are 2 2 2\n",
      "Area = 1.7320508075688772\n"
     ]
    }
   ],
   "source": [
    "static void triangleArea(double a, double b, double c)\n",
    "        {\n",
    "            if ((a > 0.0) && (b > 0.0) && (c > 0.0) && (a + b > c) && (a + c > b) && (b + c > a))\n",
    "            {\n",
    "                Console.WriteLine(\"Three given sides are \"  +a+\" \"  +b+ \" \" +c);\n",
    "                double s = (a + b + c) / 2;\n",
    "                double ar = Math.Sqrt(s * (s - a) * (s - b) * (s - c));\n",
    "                Console.WriteLine(\"Area = \"  +ar);\n",
    "            }\n",
    "            else\n",
    "            {\n",
    "                Console.WriteLine(\"Heron's formula cannot be calculated\");\n",
    "            }\n",
    "        }\n",
    "        triangleArea(2, 2, 2);"
   ]
  },
  {
   "cell_type": "markdown",
   "id": "1ecd6178",
   "metadata": {},
   "source": [
    "### Question 4th: Write a program in C# Sharp to separate odd and even integers in separate arrays. Go to the editor Test Data : Input the number of elements to be stored in the array :5 Input 5 elements in the array : element - 0 : 25 element - 1 : 47 element - 2 : 42 element - 3 : 56 element - 4 : 32 Expected Output: The Even elements are: 42 56 32 The Odd elements are : 25 47\n"
   ]
  },
  {
   "cell_type": "code",
   "execution_count": 77,
   "id": "7d791fb7",
   "metadata": {},
   "outputs": [
    {
     "name": "stdout",
     "output_type": "stream",
     "text": [
      "Input the number of elements to be stored in the array:\n",
      "Even elements are:\n",
      "2\n",
      "4\n",
      "6\n",
      "Odd elements are:\n",
      "1\n",
      "3\n",
      "5\n",
      "7\n"
     ]
    }
   ],
   "source": [
    "            int a;\n",
    "            Console.WriteLine(\"Input the number of elements to be stored in the array:\");\n",
    "         \n",
    "            a = 7;\n",
    "            int[] arr1 = new int[a];\n",
    "            arr1[0] = 1;\n",
    "            arr1[1] = 2;\n",
    "            arr1[2] = 3;\n",
    "            arr1[3] = 4;\n",
    "            arr1[4] = 5;\n",
    "            arr1[5] = 6;\n",
    "            arr1[6] = 7;\n",
    "            int[] arr2 = new int[a];\n",
    "            int[] arr3 = new int[a];\n",
    "            int i, j = 0, k = 0;\n",
    "            for (i = 0; i < a; i++)\n",
    "            {\n",
    "                if (arr1[i] % 2 == 0)\n",
    "                {\n",
    "                    arr2[j] = arr1[i];\n",
    "                    j++;\n",
    "                }\n",
    "                else\n",
    "                {\n",
    "                    arr3[k] = arr1[i];\n",
    "                    k++;\n",
    "                }\n",
    "            }\n",
    "            \n",
    "            Console.WriteLine(\"Even elements are:\");\n",
    "            for (i = 0; i < j; i++)\n",
    "            {\n",
    "\n",
    "                Console.WriteLine(arr2[i]);\n",
    "\n",
    "            }\n",
    "            Console.WriteLine(\"Odd elements are:\");\n",
    "            for (i = 0; i < k; i++)\n",
    "            {\n",
    "                Console.WriteLine(arr3[i]);\n",
    "            }\n",
    "            "
   ]
  },
  {
   "cell_type": "markdown",
   "id": "e8858919",
   "metadata": {},
   "source": [
    "## Question 5th"
   ]
  },
  {
   "cell_type": "markdown",
   "id": "4b598635",
   "metadata": {},
   "source": [
    "### Question 5th:(a) Write a function inside(x,y,x1,y1,x2,y2) that returns True or False depending on whether the point (x,y) lies in the rectangle with lower left corner (x1,y1) and upper right corner (x2,y2)\n"
   ]
  },
  {
   "cell_type": "code",
   "execution_count": 72,
   "id": "80adcc02",
   "metadata": {},
   "outputs": [
    {
     "name": "stdout",
     "output_type": "stream",
     "text": [
      "True for function 1\n",
      " False  for function 2\n"
     ]
    }
   ],
   "source": [
    "static bool inside(double x, double y, double x1,\n",
    "                         double y1, double x2, double y2)\n",
    "        {\n",
    "            if (x > x1 && x < x2 &&\n",
    "                y > y1 && y < y2)\n",
    "                return true;\n",
    "            else\n",
    "                return false;\n",
    "\n",
    "            \n",
    "        }\n",
    "         if   (inside(1, 1, 0, 0, 2, 3))\n",
    "            Console.WriteLine(\"True for function 1\");\n",
    "          else\n",
    "            Console.Write(\"  false  for function 1\");      \n",
    "             if   (inside(-1, -1, 0, 0, 2, 3))\n",
    "                Console.WriteLine(\" True  for function 2\");\n",
    "            else\n",
    "                Console.WriteLine(\" False  for function 2\");\n",
    "        "
   ]
  },
  {
   "cell_type": "markdown",
   "id": "a1dab9af",
   "metadata": {},
   "source": [
    "### Question 5th:(b)"
   ]
  },
  {
   "cell_type": "code",
   "execution_count": 80,
   "id": "2ec51880",
   "metadata": {},
   "outputs": [
    {
     "name": "stdout",
     "output_type": "stream",
     "text": [
      "  False  for function "
     ]
    }
   ],
   "source": [
    "\n",
    "static bool inside(double x, double y, double x1,\n",
    "                         double y1, double x2, double y2)\n",
    "        {\n",
    "            if (x > x1 && x < x2 &&\n",
    "                y > y1 && y < y2)\n",
    "                return true;\n",
    "            else\n",
    "                return false;\n",
    "\n",
    "\n",
    "        }\n",
    "    \n",
    "\n",
    "            if (inside(1, 1, 0.3, 0.5, 1.1, 0.7) && inside(1, 1, 0.5, 0.2, 1.1, 2))\n",
    "                Console.Write(\"  True  for function \");\n",
    "            else\n",
    "                Console.Write(\"  False  for function \");\n",
    "\n",
    "        \n",
    "    "
   ]
  }
 ],
 "metadata": {
  "kernelspec": {
   "display_name": ".NET (C#)",
   "language": "C#",
   "name": ".net-csharp"
  },
  "language_info": {
   "file_extension": ".cs",
   "mimetype": "text/x-csharp",
   "name": "C#",
   "pygments_lexer": "csharp",
   "version": "8.0"
  }
 },
 "nbformat": 4,
 "nbformat_minor": 5
}
